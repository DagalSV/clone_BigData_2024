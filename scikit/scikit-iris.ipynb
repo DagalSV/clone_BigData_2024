{
 "cells": [
  {
   "cell_type": "code",
   "execution_count": 2,
   "id": "90d75b7c-09dc-45f0-a94b-648f7c4f5df9",
   "metadata": {},
   "outputs": [],
   "source": [
    "# Import all libraries needed for the tutorial\n",
    "\n",
    "# General syntax to import specific functions in a library: \n",
    "##from (library) import (specific library function)\n",
    "from pandas import DataFrame, read_csv\n",
    "\n",
    "# General syntax to import a library but no functions: \n",
    "##import (library) as (give the library a nickname/alias)\n",
    "import matplotlib.pyplot as plt\n",
    "import pandas as pd #this is how I usually import pandas\n",
    "import sys #only needed to determine Python version number\n",
    "import matplotlib #only needed to determine Matplotlib version number\n",
    "\n",
    "# Enable inline plotting\n",
    "%matplotlib inline"
   ]
  },
  {
   "cell_type": "code",
   "execution_count": 1,
   "id": "7507fd00-3ea4-4f9e-bfa4-2e2145248a5d",
   "metadata": {},
   "outputs": [],
   "source": [
    "from sklearn.datasets import load_iris\n",
    "\n",
    "iris = load_iris()"
   ]
  },
  {
   "cell_type": "code",
   "execution_count": 3,
   "id": "ab332304-3075-4925-b7a6-c8aedba1db03",
   "metadata": {},
   "outputs": [],
   "source": [
    "from sklearn import tree\n",
    "from sklearn.tree import DecisionTreeClassifier\n",
    "from sklearn.model_selection import train_test_split"
   ]
  },
  {
   "cell_type": "markdown",
   "id": "47d5d0f9-66c0-412a-9ed7-21c17c663349",
   "metadata": {},
   "source": [
    "## Задание\n",
    "\n",
    "- поделить на test и train (test не меньше чем 25%)\n",
    "- поэкспериментировать с глубиной дерева, посмотреть на графике оценку на test и train\n",
    "- подобрать наилучшее дерево с RandomizedSearch, визуализировать его (* с помощью GridSearch)\n",
    "- проанализировать признаки (features), отсортировать их по важности, выбрать 2 наиболее важные\n",
    "- построить confusion_matrix для наилучшего дерева"
   ]
  },
  {
   "cell_type": "code",
   "execution_count": null,
   "id": "9859e961-9ffd-4d8a-aaf3-dbd66b907422",
   "metadata": {},
   "outputs": [],
   "source": []
  }
 ],
 "metadata": {
  "kernelspec": {
   "display_name": "Python 3 (ipykernel)",
   "language": "python",
   "name": "python3"
  },
  "language_info": {
   "codemirror_mode": {
    "name": "ipython",
    "version": 3
   },
   "file_extension": ".py",
   "mimetype": "text/x-python",
   "name": "python",
   "nbconvert_exporter": "python",
   "pygments_lexer": "ipython3",
   "version": "3.10.0"
  }
 },
 "nbformat": 4,
 "nbformat_minor": 5
}
