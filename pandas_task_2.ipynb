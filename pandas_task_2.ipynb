{
 "cells": [
  {
   "cell_type": "code",
   "execution_count": 1,
   "id": "070c3cf4-5fca-4a48-9710-cf5ae914bf72",
   "metadata": {},
   "outputs": [],
   "source": [
    "# Import all libraries needed for the tutorial\n",
    "\n",
    "# General syntax to import specific functions in a library: \n",
    "##from (library) import (specific library function)\n",
    "from pandas import DataFrame, read_csv\n",
    "\n",
    "# General syntax to import a library but no functions: \n",
    "##import (library) as (give the library a nickname/alias)\n",
    "import matplotlib.pyplot as plt\n",
    "import pandas as pd #this is how I usually import pandas\n",
    "import sys #only needed to determine Python version number\n",
    "import matplotlib #only needed to determine Matplotlib version number\n",
    "\n",
    "# Enable inline plotting\n",
    "%matplotlib inline"
   ]
  },
  {
   "cell_type": "markdown",
   "id": "2d396d79-0ba7-433c-9eed-6a58f14aa0c6",
   "metadata": {},
   "source": [
    "## Сгенерировать данные (датасет) случайным образом:\r\n",
    "\r\n",
    "```text\r\n",
    "date_in     | customer_count | country_code | status\r\n",
    "----------------------------------------------------\r\n",
    "2024-01-01  | 901            | RU           | 1\r\n",
    "2024-01-02  | 901            | US           | 2\r\n",
    "2024-01-03  | 901            | KZ           | 1\r\n",
    "2024-01-04  | 901            | IT           | 3\r\n",
    "2024-01-05  | 901            | RU           | 1\r\n",
    "2024-01-06  | 901            | RU           | 3\r\n",
    "2024-01-01  | 901            | US           | 1\r\n",
    "2024-01-02  | 1024           | US           | 2\r\n",
    "2024-01-03  | 901            | KZ           | 1\r\n",
    "2024-01-04  | 901            | IT           | 3\r\n",
    "2024-01-05  | 901            | RU           | 1\r\n",
    "2024-01-06  | 901            | RU           | 3\r\n",
    "```\r\n",
    "\r\n",
    "для примера будем создавать датасет для диапазона 2024-01-01-2024-02-28 x 4"
   ]
  },
  {
   "cell_type": "code",
   "execution_count": null,
   "id": "64648e0e-7aeb-46a7-90ab-656d617af615",
   "metadata": {},
   "outputs": [],
   "source": [
    "from numpy import random\n",
    "\n",
    "def create_dataset(number_for_date=1):\n",
    "    result = []\n",
    "    # ...\n",
    "    return result"
   ]
  }
 ],
 "metadata": {
  "kernelspec": {
   "display_name": "Python 3 (ipykernel)",
   "language": "python",
   "name": "python3"
  },
  "language_info": {
   "codemirror_mode": {
    "name": "ipython",
    "version": 3
   },
   "file_extension": ".py",
   "mimetype": "text/x-python",
   "name": "python",
   "nbconvert_exporter": "python",
   "pygments_lexer": "ipython3",
   "version": "3.10.0"
  }
 },
 "nbformat": 4,
 "nbformat_minor": 5
}
